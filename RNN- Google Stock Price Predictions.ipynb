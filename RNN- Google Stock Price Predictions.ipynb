{
 "cells": [
  {
   "cell_type": "markdown",
   "metadata": {
    "colab_type": "text",
    "id": "xpAuMVCwfWs8"
   },
   "source": [
    "# Recurrent Neural Network"
   ]
  },
  {
   "cell_type": "markdown",
   "metadata": {
    "colab_type": "text",
    "id": "nxJfRe4bfYVA"
   },
   "source": [
    "## Part 1 - Data Preprocessing"
   ]
  },
  {
   "cell_type": "markdown",
   "metadata": {
    "colab_type": "text",
    "id": "ir9zwETrfbrp"
   },
   "source": [
    "### Importing the libraries"
   ]
  },
  {
   "cell_type": "code",
   "execution_count": 1,
   "metadata": {
    "colab": {},
    "colab_type": "code",
    "id": "ZT1f24vHffuf"
   },
   "outputs": [],
   "source": [
    "import numpy as np\n",
    "import matplotlib.pyplot as plt\n",
    "import pandas as pd"
   ]
  },
  {
   "cell_type": "code",
   "execution_count": 4,
   "metadata": {},
   "outputs": [
    {
     "data": {
      "text/plain": [
       "'C:\\\\Users\\\\Kevin Pant\\\\Desktop\\\\DEEP LEARNING COURSE\\\\RNN\\\\Part 3 - Recurrent Neural Networks'"
      ]
     },
     "execution_count": 4,
     "metadata": {},
     "output_type": "execute_result"
    }
   ],
   "source": [
    "pwd"
   ]
  },
  {
   "cell_type": "code",
   "execution_count": 3,
   "metadata": {},
   "outputs": [
    {
     "name": "stdout",
     "output_type": "stream",
     "text": [
      "C:\\Users\\Kevin Pant\\Desktop\\DEEP LEARNING COURSE\\RNN\\Part 3 - Recurrent Neural Networks\n"
     ]
    }
   ],
   "source": [
    "cd C:\\Users\\Kevin Pant\\Desktop\\DEEP LEARNING COURSE\\RNN\\Part 3 - Recurrent Neural Networks"
   ]
  },
  {
   "cell_type": "markdown",
   "metadata": {
    "colab_type": "text",
    "id": "nQ47JAxrgmaL"
   },
   "source": [
    "### Importing the training set:\n",
    "The input set of RNN"
   ]
  },
  {
   "cell_type": "code",
   "execution_count": 10,
   "metadata": {
    "colab": {},
    "colab_type": "code",
    "id": "1xiv3pJOgqY3"
   },
   "outputs": [
    {
     "data": {
      "text/plain": [
       "array([[325.25],\n",
       "       [331.27],\n",
       "       [329.83],\n",
       "       ...,\n",
       "       [793.7 ],\n",
       "       [783.33],\n",
       "       [782.75]])"
      ]
     },
     "execution_count": 10,
     "metadata": {},
     "output_type": "execute_result"
    }
   ],
   "source": [
    "dataset_train = pd.read_csv('Google_Stock_Price_Train.csv')\n",
    "training_set = dataset_train.iloc[:, 1:2].values #adding .values makes it into a numpy array\n",
    "training_set"
   ]
  },
  {
   "cell_type": "markdown",
   "metadata": {
    "colab_type": "text",
    "id": "HT8_2UJegtG5"
   },
   "source": [
    "### Feature Scaling:\n",
    "\n",
    "Apply Normalization(MINMAX) as SC instead of Standardisation for RNN "
   ]
  },
  {
   "cell_type": "code",
   "execution_count": 11,
   "metadata": {
    "colab": {},
    "colab_type": "code",
    "id": "OTrF2kR7gx9x"
   },
   "outputs": [],
   "source": [
    "from sklearn.preprocessing import MinMaxScaler\n",
    "sc = MinMaxScaler(feature_range = (0, 1))\n",
    "training_set_scaled = sc.fit_transform(training_set)"
   ]
  },
  {
   "cell_type": "code",
   "execution_count": 12,
   "metadata": {},
   "outputs": [
    {
     "data": {
      "text/plain": [
       "array([[0.08581368],\n",
       "       [0.09701243],\n",
       "       [0.09433366],\n",
       "       ...,\n",
       "       [0.95725128],\n",
       "       [0.93796041],\n",
       "       [0.93688146]])"
      ]
     },
     "execution_count": 12,
     "metadata": {},
     "output_type": "execute_result"
    }
   ],
   "source": [
    "training_set_scaled"
   ]
  },
  {
   "cell_type": "markdown",
   "metadata": {
    "colab_type": "text",
    "id": "JyYgYocqhNUg"
   },
   "source": [
    "### Creating a data structure with 60 timesteps and 1 output"
   ]
  },
  {
   "cell_type": "markdown",
   "metadata": {},
   "source": [
    "We're going to create a data structure specifying what the RNN will need to remember <br/>\n",
    "\n",
    "when predicting the next stock price. And this is called the number of time steps.<br/>\n",
    "\n",
    "It is important to have the right number of time steps because a wrong number of time steps could lead to over fitting or horrible predictions."
   ]
  },
  {
   "cell_type": "markdown",
   "metadata": {},
   "source": [
    "## 60 timesteps meaning: <br/>\n",
    "\n",
    "The RNN is going to look at the 60 stock prices before time T, that is the stock prices between 60 days before time T <br/>\n",
    "\n",
    "and time T, and based on the trends, it will capture during these 60 previous timesteps, it will try to predict the next output.<br/>\n",
    "\n",
    "So 60 timesteps of the past information from which our RNN is gonna try to learn and understand some correlations, or some trends, and based on its understanding, it's going to try to predict the next output. <br/>\n",
    "\n",
    "That is, the stock price at time T plus one."
   ]
  },
  {
   "cell_type": "code",
   "execution_count": 13,
   "metadata": {
    "colab": {},
    "colab_type": "code",
    "id": "iofU21B0i6ST"
   },
   "outputs": [],
   "source": [
    "X_train = [] #input for rnn\n",
    "y_train = [] # output for rnn\n",
    "for i in range(60, 1258):\n",
    "    X_train.append(training_set_scaled[i-60:i, 0])\n",
    "    y_train.append(training_set_scaled[i, 0])\n",
    "X_train, y_train = np.array(X_train), np.array(y_train)"
   ]
  },
  {
   "cell_type": "code",
   "execution_count": 19,
   "metadata": {
    "scrolled": false
   },
   "outputs": [
    {
     "data": {
      "text/plain": [
       "array([[0.08581368, 0.09701243, 0.09433366, ..., 0.07846566, 0.08034452,\n",
       "        0.08497656],\n",
       "       [0.09701243, 0.09433366, 0.09156187, ..., 0.08034452, 0.08497656,\n",
       "        0.08627874],\n",
       "       [0.09433366, 0.09156187, 0.07984225, ..., 0.08497656, 0.08627874,\n",
       "        0.08471612],\n",
       "       ...,\n",
       "       [0.92106928, 0.92438053, 0.93048218, ..., 0.95475854, 0.95204256,\n",
       "        0.95163331],\n",
       "       [0.92438053, 0.93048218, 0.9299055 , ..., 0.95204256, 0.95163331,\n",
       "        0.95725128],\n",
       "       [0.93048218, 0.9299055 , 0.93113327, ..., 0.95163331, 0.95725128,\n",
       "        0.93796041]])"
      ]
     },
     "execution_count": 19,
     "metadata": {},
     "output_type": "execute_result"
    }
   ],
   "source": [
    "#y_train\n",
    "X_train"
   ]
  },
  {
   "cell_type": "markdown",
   "metadata": {},
   "source": [
    "## Explaining X_train and y_train:\n",
    "\n",
    "Basically for each observation,i.e. for each financial day,<br/>**X_train** will contain the 60 previews stock prices,before that financial day. <br/>\n",
    "\n",
    "**y_train** will contain the stock price the next financial day."
   ]
  },
  {
   "cell_type": "markdown",
   "metadata": {
    "colab_type": "text",
    "id": "D8yaN7Zvi95l"
   },
   "source": [
    "### Reshaping:\n",
    "\n",
    "In this dimension what we're gonna add is exactly the unit, that is, the number of predictors we can use to predict what we want. <br/>\n",
    "\n",
    "Which is the Google Stock Price at time T plus one."
   ]
  },
  {
   "cell_type": "code",
   "execution_count": 20,
   "metadata": {
    "colab": {},
    "colab_type": "code",
    "id": "FOXqJHmNjBkz"
   },
   "outputs": [],
   "source": [
    "X_train = np.reshape(X_train, (X_train.shape[0], X_train.shape[1], 1))"
   ]
  },
  {
   "cell_type": "code",
   "execution_count": 21,
   "metadata": {
    "scrolled": true
   },
   "outputs": [
    {
     "data": {
      "text/plain": [
       "array([[[0.08581368],\n",
       "        [0.09701243],\n",
       "        [0.09433366],\n",
       "        ...,\n",
       "        [0.07846566],\n",
       "        [0.08034452],\n",
       "        [0.08497656]],\n",
       "\n",
       "       [[0.09701243],\n",
       "        [0.09433366],\n",
       "        [0.09156187],\n",
       "        ...,\n",
       "        [0.08034452],\n",
       "        [0.08497656],\n",
       "        [0.08627874]],\n",
       "\n",
       "       [[0.09433366],\n",
       "        [0.09156187],\n",
       "        [0.07984225],\n",
       "        ...,\n",
       "        [0.08497656],\n",
       "        [0.08627874],\n",
       "        [0.08471612]],\n",
       "\n",
       "       ...,\n",
       "\n",
       "       [[0.92106928],\n",
       "        [0.92438053],\n",
       "        [0.93048218],\n",
       "        ...,\n",
       "        [0.95475854],\n",
       "        [0.95204256],\n",
       "        [0.95163331]],\n",
       "\n",
       "       [[0.92438053],\n",
       "        [0.93048218],\n",
       "        [0.9299055 ],\n",
       "        ...,\n",
       "        [0.95204256],\n",
       "        [0.95163331],\n",
       "        [0.95725128]],\n",
       "\n",
       "       [[0.93048218],\n",
       "        [0.9299055 ],\n",
       "        [0.93113327],\n",
       "        ...,\n",
       "        [0.95163331],\n",
       "        [0.95725128],\n",
       "        [0.93796041]]])"
      ]
     },
     "execution_count": 21,
     "metadata": {},
     "output_type": "execute_result"
    }
   ],
   "source": [
    "X_train"
   ]
  },
  {
   "cell_type": "markdown",
   "metadata": {
    "colab_type": "text",
    "id": "ZRRSOJeVjEWV"
   },
   "source": [
    "## Part 2 - Building and Training the RNN"
   ]
  },
  {
   "cell_type": "markdown",
   "metadata": {
    "colab_type": "text",
    "id": "k4XV88JMjHXG"
   },
   "source": [
    "### Importing the Keras libraries and packages"
   ]
  },
  {
   "cell_type": "code",
   "execution_count": 22,
   "metadata": {
    "colab": {
     "base_uri": "https://localhost:8080/",
     "height": 34
    },
    "colab_type": "code",
    "id": "9JRnqsxEjKsD",
    "outputId": "b3e23e78-18aa-4396-c923-c877b8de60e4"
   },
   "outputs": [
    {
     "name": "stderr",
     "output_type": "stream",
     "text": [
      "Using TensorFlow backend.\n"
     ]
    }
   ],
   "source": [
    "from keras.models import Sequential\n",
    "from keras.layers import Dense #for output layer\n",
    "from keras.layers import LSTM\n",
    "from keras.layers import Dropout"
   ]
  },
  {
   "cell_type": "markdown",
   "metadata": {
    "colab_type": "text",
    "id": "FEIE-1s9jNzC"
   },
   "source": [
    "### Initialising the RNN"
   ]
  },
  {
   "cell_type": "code",
   "execution_count": 23,
   "metadata": {
    "colab": {},
    "colab_type": "code",
    "id": "1338dJ0UjRKH"
   },
   "outputs": [],
   "source": [
    "regressor = Sequential()"
   ]
  },
  {
   "cell_type": "markdown",
   "metadata": {
    "colab_type": "text",
    "id": "62eg1OPGjT8z"
   },
   "source": [
    "### Adding the first LSTM layer and some Dropout regularisation"
   ]
  },
  {
   "cell_type": "markdown",
   "metadata": {},
   "source": [
    "**Understanding the 3 arguments:** \n",
    "\n",
    "1 Units = 50[no. of LSTM cells we want]<br/>\n",
    "2 return_sequences = True [because we are building a stacked LSTM which will have several LSTM layers and when you add another LSTM layer\n",
    "after the one you are creating right now, you have to set the return sequences argument to true.] <br/>\n",
    "\n",
    "3 input_shape = (X_train.shape[1], 1))): <br/>\n",
    "that is exactly the shape of the input containing x_train that we created in the last step of the data preprocessing part. It's an input shape in three dimensions, in 3-D,corresponding to the observations, the time steps, and the indicators."
   ]
  },
  {
   "cell_type": "markdown",
   "metadata": {},
   "source": [
    "## Dropout explanation:\n",
    "\n",
    "We're gonna have 20% Dropout, that is the 20% of the neurons of the LSTM layer, will be ignored during the training, that is during the forward propagation and back propagation happening in each iteration of the training.<br/>\n",
    "\n",
    "Therefore, since 20% of 50 is 10 neurons, that means that 10 neurons will be ignored and dropped out during each iteration of the training."
   ]
  },
  {
   "cell_type": "code",
   "execution_count": 24,
   "metadata": {
    "colab": {},
    "colab_type": "code",
    "id": "2hIinyXUjbVU"
   },
   "outputs": [],
   "source": [
    "regressor.add(LSTM(units = 50, return_sequences = True, input_shape = (X_train.shape[1], 1)))\n",
    "regressor.add(Dropout(0.2))"
   ]
  },
  {
   "cell_type": "markdown",
   "metadata": {
    "colab_type": "text",
    "id": "3XBIYLyOjlMx"
   },
   "source": [
    "### Adding a second LSTM layer and some Dropout regularisation"
   ]
  },
  {
   "cell_type": "code",
   "execution_count": 25,
   "metadata": {
    "colab": {},
    "colab_type": "code",
    "id": "UG7nrVaSjuZ2"
   },
   "outputs": [],
   "source": [
    "regressor.add(LSTM(units = 50, return_sequences = True))\n",
    "regressor.add(Dropout(0.2))"
   ]
  },
  {
   "cell_type": "markdown",
   "metadata": {
    "colab_type": "text",
    "id": "Ey3fHVnGj1cu"
   },
   "source": [
    "### Adding a third LSTM layer and some Dropout regularisation"
   ]
  },
  {
   "cell_type": "code",
   "execution_count": 26,
   "metadata": {
    "colab": {},
    "colab_type": "code",
    "id": "PuNi6PgFj7jO"
   },
   "outputs": [],
   "source": [
    "regressor.add(LSTM(units = 50, return_sequences = True))\n",
    "regressor.add(Dropout(0.2))"
   ]
  },
  {
   "cell_type": "markdown",
   "metadata": {
    "colab_type": "text",
    "id": "SYTrtfTmj933"
   },
   "source": [
    "### Adding a fourth LSTM layer and some Dropout regularisation"
   ]
  },
  {
   "cell_type": "code",
   "execution_count": 27,
   "metadata": {
    "colab": {},
    "colab_type": "code",
    "id": "Jp4Ty8fRkBYV"
   },
   "outputs": [],
   "source": [
    "regressor.add(LSTM(units = 50))\n",
    "regressor.add(Dropout(0.2))"
   ]
  },
  {
   "cell_type": "markdown",
   "metadata": {
    "colab_type": "text",
    "id": "9ABI6rOIkHhk"
   },
   "source": [
    "### Adding the output layer"
   ]
  },
  {
   "cell_type": "code",
   "execution_count": 28,
   "metadata": {
    "colab": {},
    "colab_type": "code",
    "id": "aM6R1z4WkME8"
   },
   "outputs": [],
   "source": [
    "regressor.add(Dense(units = 1))"
   ]
  },
  {
   "cell_type": "markdown",
   "metadata": {
    "colab_type": "text",
    "id": "zLx4K7uUkPSh"
   },
   "source": [
    "### Compiling the RNN"
   ]
  },
  {
   "cell_type": "code",
   "execution_count": 29,
   "metadata": {
    "colab": {},
    "colab_type": "code",
    "id": "XTrhVN-tkbko"
   },
   "outputs": [],
   "source": [
    "regressor.compile(optimizer = 'adam', loss = 'mean_squared_error')"
   ]
  },
  {
   "cell_type": "markdown",
   "metadata": {},
   "source": [
    "**Important Note:** \n",
    "\n",
    "For RNN the recommended \"optimizer\" is RMSprop ( it is some kind of an advanced stochastic gradient descent optimizer.)\n",
    "\n",
    "Read Keras Documentation for more inputs"
   ]
  },
  {
   "cell_type": "markdown",
   "metadata": {
    "colab_type": "text",
    "id": "-mPhwKGkkebi"
   },
   "source": [
    "### Fitting the RNN to the Training set"
   ]
  },
  {
   "cell_type": "code",
   "execution_count": 30,
   "metadata": {
    "colab": {
     "base_uri": "https://localhost:8080/",
     "height": 1000
    },
    "colab_type": "code",
    "id": "I06Nkrz5kkb-",
    "outputId": "dc9d947a-4d5c-4dbc-ed45-31bf44b98dfb",
    "scrolled": true
   },
   "outputs": [
    {
     "name": "stdout",
     "output_type": "stream",
     "text": [
      "Epoch 1/100\n",
      "1198/1198 [==============================] - 13s 11ms/step - loss: 0.0423\n",
      "Epoch 2/100\n",
      "1198/1198 [==============================] - 9s 7ms/step - loss: 0.0059\n",
      "Epoch 3/100\n",
      "1198/1198 [==============================] - 9s 8ms/step - loss: 0.0055\n",
      "Epoch 4/100\n",
      "1198/1198 [==============================] - 9s 7ms/step - loss: 0.0050\n",
      "Epoch 5/100\n",
      "1198/1198 [==============================] - 12s 10ms/step - loss: 0.0063\n",
      "Epoch 6/100\n",
      "1198/1198 [==============================] - 11s 9ms/step - loss: 0.0051\n",
      "Epoch 7/100\n",
      "1198/1198 [==============================] - 11s 9ms/step - loss: 0.0045\n",
      "Epoch 8/100\n",
      "1198/1198 [==============================] - 12s 10ms/step - loss: 0.0044\n",
      "Epoch 9/100\n",
      "1198/1198 [==============================] - 11s 9ms/step - loss: 0.0044\n",
      "Epoch 10/100\n",
      "1198/1198 [==============================] - 11s 9ms/step - loss: 0.0043\n",
      "Epoch 11/100\n",
      "1198/1198 [==============================] - 11s 10ms/step - loss: 0.0043\n",
      "Epoch 12/100\n",
      "1198/1198 [==============================] - 12s 10ms/step - loss: 0.0039\n",
      "Epoch 13/100\n",
      "1198/1198 [==============================] - 11s 9ms/step - loss: 0.0039\n",
      "Epoch 14/100\n",
      "1198/1198 [==============================] - 11s 9ms/step - loss: 0.0040\n",
      "Epoch 15/100\n",
      "1198/1198 [==============================] - 12s 10ms/step - loss: 0.0038\n",
      "Epoch 16/100\n",
      "1198/1198 [==============================] - 11s 9ms/step - loss: 0.0042\n",
      "Epoch 17/100\n",
      "1198/1198 [==============================] - 11s 9ms/step - loss: 0.0039\n",
      "Epoch 18/100\n",
      "1198/1198 [==============================] - 11s 10ms/step - loss: 0.0035\n",
      "Epoch 19/100\n",
      "1198/1198 [==============================] - 12s 10ms/step - loss: 0.0032\n",
      "Epoch 20/100\n",
      "1198/1198 [==============================] - 11s 9ms/step - loss: 0.0035\n",
      "Epoch 21/100\n",
      "1198/1198 [==============================] - 11s 9ms/step - loss: 0.0036\n",
      "Epoch 22/100\n",
      "1198/1198 [==============================] - 12s 10ms/step - loss: 0.0033\n",
      "Epoch 23/100\n",
      "1198/1198 [==============================] - 11s 9ms/step - loss: 0.0034\n",
      "Epoch 24/100\n",
      "1198/1198 [==============================] - 11s 9ms/step - loss: 0.0032\n",
      "Epoch 25/100\n",
      "1198/1198 [==============================] - 11s 10ms/step - loss: 0.0035\n",
      "Epoch 26/100\n",
      "1198/1198 [==============================] - 11s 9ms/step - loss: 0.0033\n",
      "Epoch 27/100\n",
      "1198/1198 [==============================] - 10s 8ms/step - loss: 0.0031\n",
      "Epoch 28/100\n",
      "1198/1198 [==============================] - 12s 10ms/step - loss: 0.0031\n",
      "Epoch 29/100\n",
      "1198/1198 [==============================] - 12s 10ms/step - loss: 0.0032\n",
      "Epoch 30/100\n",
      "1198/1198 [==============================] - 11s 9ms/step - loss: 0.0031\n",
      "Epoch 31/100\n",
      "1198/1198 [==============================] - 11s 9ms/step - loss: 0.0030\n",
      "Epoch 32/100\n",
      "1198/1198 [==============================] - 12s 10ms/step - loss: 0.0032\n",
      "Epoch 33/100\n",
      "1198/1198 [==============================] - 11s 10ms/step - loss: 0.0031\n",
      "Epoch 34/100\n",
      "1198/1198 [==============================] - 11s 9ms/step - loss: 0.0028\n",
      "Epoch 35/100\n",
      "1198/1198 [==============================] - 12s 10ms/step - loss: 0.0028\n",
      "Epoch 36/100\n",
      "1198/1198 [==============================] - 11s 9ms/step - loss: 0.0029\n",
      "Epoch 37/100\n",
      "1198/1198 [==============================] - 11s 9ms/step - loss: 0.0027\n",
      "Epoch 38/100\n",
      "1198/1198 [==============================] - 11s 9ms/step - loss: 0.0027\n",
      "Epoch 39/100\n",
      "1198/1198 [==============================] - 12s 10ms/step - loss: 0.0026\n",
      "Epoch 40/100\n",
      "1198/1198 [==============================] - 11s 9ms/step - loss: 0.0028\n",
      "Epoch 41/100\n",
      "1198/1198 [==============================] - 11s 9ms/step - loss: 0.0029\n",
      "Epoch 42/100\n",
      "1198/1198 [==============================] - 12s 10ms/step - loss: 0.0029\n",
      "Epoch 43/100\n",
      "1198/1198 [==============================] - 11s 9ms/step - loss: 0.0026\n",
      "Epoch 44/100\n",
      "1198/1198 [==============================] - 11s 9ms/step - loss: 0.0026\n",
      "Epoch 45/100\n",
      "1198/1198 [==============================] - 11s 10ms/step - loss: 0.0025\n",
      "Epoch 46/100\n",
      "1198/1198 [==============================] - 12s 10ms/step - loss: 0.0025\n",
      "Epoch 47/100\n",
      "1198/1198 [==============================] - 11s 9ms/step - loss: 0.0024\n",
      "Epoch 48/100\n",
      "1198/1198 [==============================] - 11s 9ms/step - loss: 0.0026\n",
      "Epoch 49/100\n",
      "1198/1198 [==============================] - 12s 10ms/step - loss: 0.0024\n",
      "Epoch 50/100\n",
      "1198/1198 [==============================] - 11s 9ms/step - loss: 0.0021\n",
      "Epoch 51/100\n",
      "1198/1198 [==============================] - 11s 9ms/step - loss: 0.0020\n",
      "Epoch 52/100\n",
      "1198/1198 [==============================] - 11s 9ms/step - loss: 0.0022\n",
      "Epoch 53/100\n",
      "1198/1198 [==============================] - 12s 10ms/step - loss: 0.0023\n",
      "Epoch 54/100\n",
      "1198/1198 [==============================] - 11s 9ms/step - loss: 0.0026\n",
      "Epoch 55/100\n",
      "1198/1198 [==============================] - 11s 9ms/step - loss: 0.0026\n",
      "Epoch 56/100\n",
      "1198/1198 [==============================] - 12s 10ms/step - loss: 0.0026\n",
      "Epoch 57/100\n",
      "1198/1198 [==============================] - 11s 9ms/step - loss: 0.0022\n",
      "Epoch 58/100\n",
      "1198/1198 [==============================] - 11s 9ms/step - loss: 0.0022\n",
      "Epoch 59/100\n",
      "1198/1198 [==============================] - 12s 10ms/step - loss: 0.0021\n",
      "Epoch 60/100\n",
      "1198/1198 [==============================] - 11s 9ms/step - loss: 0.0022\n",
      "Epoch 61/100\n",
      "1198/1198 [==============================] - 11s 9ms/step - loss: 0.0022\n",
      "Epoch 62/100\n",
      "1198/1198 [==============================] - 11s 9ms/step - loss: 0.0022\n",
      "Epoch 63/100\n",
      "1198/1198 [==============================] - 11s 10ms/step - loss: 0.0022\n",
      "Epoch 64/100\n",
      "1198/1198 [==============================] - 11s 9ms/step - loss: 0.0020\n",
      "Epoch 65/100\n",
      "1198/1198 [==============================] - 11s 9ms/step - loss: 0.0021\n",
      "Epoch 66/100\n",
      "1198/1198 [==============================] - 12s 10ms/step - loss: 0.0020\n",
      "Epoch 67/100\n",
      "1198/1198 [==============================] - 11s 9ms/step - loss: 0.0021\n",
      "Epoch 68/100\n",
      "1198/1198 [==============================] - 11s 9ms/step - loss: 0.0021\n",
      "Epoch 69/100\n",
      "1198/1198 [==============================] - 12s 10ms/step - loss: 0.0020\n",
      "Epoch 70/100\n",
      "1198/1198 [==============================] - 11s 9ms/step - loss: 0.0019\n",
      "Epoch 71/100\n",
      "1198/1198 [==============================] - 11s 9ms/step - loss: 0.0019\n",
      "Epoch 72/100\n",
      "1198/1198 [==============================] - 11s 9ms/step - loss: 0.0018\n",
      "Epoch 73/100\n",
      "1198/1198 [==============================] - 11s 10ms/step - loss: 0.0019\n",
      "Epoch 74/100\n",
      "1198/1198 [==============================] - 11s 9ms/step - loss: 0.0019\n",
      "Epoch 75/100\n",
      "1198/1198 [==============================] - 11s 9ms/step - loss: 0.0019\n",
      "Epoch 76/100\n",
      "1198/1198 [==============================] - 12s 10ms/step - loss: 0.0019\n",
      "Epoch 77/100\n",
      "1198/1198 [==============================] - 11s 9ms/step - loss: 0.0017\n",
      "Epoch 78/100\n",
      "1198/1198 [==============================] - 11s 9ms/step - loss: 0.0017\n",
      "Epoch 79/100\n",
      "1198/1198 [==============================] - 12s 10ms/step - loss: 0.0017\n",
      "Epoch 80/100\n",
      "1198/1198 [==============================] - 11s 9ms/step - loss: 0.0018\n",
      "Epoch 81/100\n",
      "1198/1198 [==============================] - 11s 9ms/step - loss: 0.0018\n",
      "Epoch 82/100\n",
      "1198/1198 [==============================] - 11s 9ms/step - loss: 0.0016\n",
      "Epoch 83/100\n",
      "1198/1198 [==============================] - 11s 9ms/step - loss: 0.0017\n",
      "Epoch 84/100\n",
      "1198/1198 [==============================] - 11s 9ms/step - loss: 0.0016\n",
      "Epoch 85/100\n",
      "1198/1198 [==============================] - 11s 9ms/step - loss: 0.0017\n",
      "Epoch 86/100\n",
      "1198/1198 [==============================] - 12s 10ms/step - loss: 0.0016\n",
      "Epoch 87/100\n",
      "1198/1198 [==============================] - 11s 9ms/step - loss: 0.0015\n",
      "Epoch 88/100\n",
      "1198/1198 [==============================] - 11s 9ms/step - loss: 0.0015\n",
      "Epoch 89/100\n",
      "1198/1198 [==============================] - 12s 10ms/step - loss: 0.0017\n",
      "Epoch 90/100\n",
      "1198/1198 [==============================] - 11s 9ms/step - loss: 0.0015\n",
      "Epoch 91/100\n",
      "1198/1198 [==============================] - 11s 9ms/step - loss: 0.0015\n",
      "Epoch 92/100\n",
      "1198/1198 [==============================] - 11s 10ms/step - loss: 0.0016\n",
      "Epoch 93/100\n",
      "1198/1198 [==============================] - 11s 9ms/step - loss: 0.0015\n",
      "Epoch 94/100\n",
      "1198/1198 [==============================] - 11s 9ms/step - loss: 0.0014\n",
      "Epoch 95/100\n",
      "1198/1198 [==============================] - 11s 9ms/step - loss: 0.0015\n",
      "Epoch 96/100\n",
      "1198/1198 [==============================] - 11s 10ms/step - loss: 0.0015\n",
      "Epoch 97/100\n",
      "1198/1198 [==============================] - 11s 9ms/step - loss: 0.0016\n",
      "Epoch 98/100\n",
      "1198/1198 [==============================] - 11s 9ms/step - loss: 0.0014\n",
      "Epoch 99/100\n",
      "1198/1198 [==============================] - 12s 10ms/step - loss: 0.0014\n",
      "Epoch 100/100\n",
      "1198/1198 [==============================] - 11s 9ms/step - loss: 0.0014\n"
     ]
    },
    {
     "data": {
      "text/plain": [
       "<keras.callbacks.callbacks.History at 0x1e78340b588>"
      ]
     },
     "execution_count": 30,
     "metadata": {},
     "output_type": "execute_result"
    }
   ],
   "source": [
    "regressor.fit(X_train, y_train, epochs = 100, batch_size = 32)"
   ]
  },
  {
   "cell_type": "markdown",
   "metadata": {
    "colab_type": "text",
    "id": "4hRau_lIkrE8"
   },
   "source": [
    "## Part 3 - Making the predictions and visualising the results"
   ]
  },
  {
   "cell_type": "markdown",
   "metadata": {
    "colab_type": "text",
    "id": "SgJO6qEDksxD"
   },
   "source": [
    "### Getting the real stock price of 2017"
   ]
  },
  {
   "cell_type": "code",
   "execution_count": 31,
   "metadata": {
    "colab": {},
    "colab_type": "code",
    "id": "FmBT2zqukxTz"
   },
   "outputs": [],
   "source": [
    "dataset_test = pd.read_csv('Google_Stock_Price_Test.csv')##Create dataset\n",
    "real_stock_price = dataset_test.iloc[:, 1:2].values #Convert into numpy array"
   ]
  },
  {
   "cell_type": "code",
   "execution_count": 32,
   "metadata": {
    "scrolled": false
   },
   "outputs": [
    {
     "data": {
      "text/plain": [
       "array([[778.81],\n",
       "       [788.36],\n",
       "       [786.08],\n",
       "       [795.26],\n",
       "       [806.4 ],\n",
       "       [807.86],\n",
       "       [805.  ],\n",
       "       [807.14],\n",
       "       [807.48],\n",
       "       [807.08],\n",
       "       [805.81],\n",
       "       [805.12],\n",
       "       [806.91],\n",
       "       [807.25],\n",
       "       [822.3 ],\n",
       "       [829.62],\n",
       "       [837.81],\n",
       "       [834.71],\n",
       "       [814.66],\n",
       "       [796.86]])"
      ]
     },
     "execution_count": 32,
     "metadata": {},
     "output_type": "execute_result"
    }
   ],
   "source": [
    "real_stock_price"
   ]
  },
  {
   "cell_type": "markdown",
   "metadata": {
    "colab_type": "text",
    "id": "GrvrLblxkz42"
   },
   "source": [
    "### Getting the predicted stock price of 2017"
   ]
  },
  {
   "cell_type": "markdown",
   "metadata": {},
   "source": [
    "**KEY POINTS:**\n"
   ]
  },
  {
   "cell_type": "markdown",
   "metadata": {},
   "source": [
    "**(1) We trained our model to be able to predict the stock price at time T+1 ,based on the 60 previous stock prices, therefore, to predict each stock price of each financial day of January, 2017, we will need the 60 previous stock prices of the 60 previous financial days, before the actual day.**"
   ]
  },
  {
   "cell_type": "markdown",
   "metadata": {},
   "source": [
    "**(2) In order to get at each day of January, 2017, the 60 previous stock prices of the 60 previous days, we will need both the training set and the test set, because we will have some of the 60 days that will be from the training set, because they will be from December 2016, and we will also have some stock prices of the test set, because some of them will come from January 2017, and, therefore, the first thing we need to do now, is some CONCATENATION of the training set and the test set, to be able to get these 60 produced inputs, for each day of January, 2017.**"
   ]
  },
  {
   "cell_type": "markdown",
   "metadata": {},
   "source": [
    "**(3) Concatenate the original DataFrames that we still have, these are dataset_train, and dataset_test.\n",
    "From this concatenation,we will get the input of each prediction, that is the 60 produced stock prices at each time T, and this is then what we will scale. \n",
    "These are on these inputs.\n",
    "That's where we'll apply our SC object.\n",
    "These inputs that we will scale to get the predictions, and that way we are only scaling the input, and we are not changing the actual test values, and this is the right approach to take.**"
   ]
  },
  {
   "cell_type": "markdown",
   "metadata": {},
   "source": [
    "**Why are we scaling the inputs?**\n",
    "\n",
    "That is because our RNN was trained on the scaled values of the train set.\n",
    "Therefore, for consistency of the model we will have to use the scaled input to get our predictions, and the scaled input should be based on the same scaling that we applied,i.e. normalization with our SC object."
   ]
  },
  {
   "cell_type": "markdown",
   "metadata": {},
   "source": [
    "**What are Inputs?**\n",
    "\n",
    "At each time T, or at each financial day of January 2017, we need to get the 60 previous stock prices of the 60 previous financial days.\n",
    "\n",
    "If you want the stock prices of the three previous months, because there are 20 financial days in one month, and therefore, 60 financial days would make three months."
   ]
  },
  {
   "cell_type": "code",
   "execution_count": 33,
   "metadata": {
    "colab": {},
    "colab_type": "code",
    "id": "emikTvUpk3Ck"
   },
   "outputs": [],
   "source": [
    "dataset_total = pd.concat((dataset_train['Open'], dataset_test['Open']), axis = 0)\n",
    "# We only want the Opening Google Stock Price\n",
    "inputs = dataset_total[len(dataset_total) - len(dataset_test) - 60:].values\n",
    "# How to get to January 3rd opening stock price = len(dataset_total) - len(dataset_test)\n",
    "#len(dataset_test) is index of last day of JAN'17 we - this by 20 = Jan 3rd(the first day, the first financial day of January, 2017)\n",
    "inputs = inputs.reshape(-1,1)\n",
    "#if you don't get this NumPy Array of the format you want,we use \".reshape\"\n"
   ]
  },
  {
   "cell_type": "markdown",
   "metadata": {},
   "source": [
    "**Imp Note**\n",
    "\n",
    "Repeat the process of what I did before to obtain the right 3D format that is expected by the neural network.\n",
    "\n",
    "It is not only expected by the neural network for the training, it is also expected by the neural network for the predictions.\n",
    "\n",
    "So, whether I apply the fit method to train a regressor or to predict methods to make my regressor predict something, I need to have the right format of inputs and this format is the 3D format that we made previously."
   ]
  },
  {
   "cell_type": "code",
   "execution_count": 34,
   "metadata": {},
   "outputs": [],
   "source": [
    "inputs = sc.transform(inputs) # Since RNN was scaled\n",
    "X_test = [] ##Code taken from X_train & y_train\n",
    "for i in range(60, 80):# since test set contains only 20 financial days\n",
    "    X_test.append(inputs[i-60:i, 0]) # 0 = 0 col.\n",
    "X_test = np.array(X_test)\n",
    "\n",
    "## Now the 3-d format, taken from X_train above.\n",
    "X_test = np.reshape(X_test, (X_test.shape[0], X_test.shape[1], 1))\n",
    "\n",
    "predicted_stock_price = regressor.predict(X_test)\n",
    "predicted_stock_price = sc.inverse_transform(predicted_stock_price)\n",
    "\n",
    "## V.imp note:\n",
    "# We need to inverse the scaling of our predictions\n",
    "\n",
    "#because our regressor was trained to predict the scaled values of the \n",
    "#stock price.To get the original scale of these scaled predicted values\n",
    "#we simply need to apply the inverse transform method from our s\n",
    "#caling sc object."
   ]
  },
  {
   "cell_type": "code",
   "execution_count": 35,
   "metadata": {
    "scrolled": true
   },
   "outputs": [
    {
     "data": {
      "text/plain": [
       "array([[768.83777],\n",
       "       [765.97217],\n",
       "       [765.187  ],\n",
       "       [765.9823 ],\n",
       "       [768.9207 ],\n",
       "       [774.45044],\n",
       "       [780.3096 ],\n",
       "       [783.70984],\n",
       "       [784.7277 ],\n",
       "       [784.38916],\n",
       "       [783.6738 ],\n",
       "       [783.03546],\n",
       "       [782.6841 ],\n",
       "       [783.05176],\n",
       "       [783.9543 ],\n",
       "       [787.7459 ],\n",
       "       [794.101  ],\n",
       "       [801.6464 ],\n",
       "       [806.8679 ],\n",
       "       [804.9465 ]], dtype=float32)"
      ]
     },
     "execution_count": 35,
     "metadata": {},
     "output_type": "execute_result"
    }
   ],
   "source": [
    "predicted_stock_price"
   ]
  },
  {
   "cell_type": "markdown",
   "metadata": {
    "colab_type": "text",
    "id": "iFTNs3YHk6FQ"
   },
   "source": [
    "### Visualising the results"
   ]
  },
  {
   "cell_type": "code",
   "execution_count": 36,
   "metadata": {
    "colab": {
     "base_uri": "https://localhost:8080/",
     "height": 295
    },
    "colab_type": "code",
    "id": "8OUI8U49k9tH",
    "outputId": "db0ed15e-071b-4bae-955e-0eda3df95238"
   },
   "outputs": [
    {
     "data": {
      "image/png": "[encoded data removed]",
      "text/plain": [
       "<Figure size 432x288 with 1 Axes>"
      ]
     },
     "metadata": {
      "needs_background": "light"
     },
     "output_type": "display_data"
    }
   ],
   "source": [
    "plt.plot(real_stock_price, color = 'red', label = 'Real Google Stock Price')\n",
    "plt.plot(predicted_stock_price, color = 'blue', label = 'Predicted Google Stock Price')\n",
    "plt.title('Google Stock Price Prediction')\n",
    "plt.xlabel('Time')\n",
    "plt.ylabel('Google Stock Price')\n",
    "plt.legend()\n",
    "plt.show()"
   ]
  },
  {
   "cell_type": "markdown",
   "metadata": {},
   "source": [
    "Comments: <br/> \n",
    "\n",
    "\n",
    "Our model just lags behind because it cannot react to fast, nonlinear changes. This spike here this stock time irregularity, is indeed a fast, nonlinear change to which ourmodel cannot react properly.\n",
    "\n",
    "That's totally fine because according to the Brownian Motion Mathematical Concept in financial engineering, the future variations of the stock price are independent from the past.\n",
    "\n",
    "And therefore, this future variation that we see here around the spike, well, is a variation that is totally independent from the previous stock prices"
   ]
  },
  {
   "cell_type": "markdown",
   "metadata": {},
   "source": [
    "The conclusion is that in the parts of the predictions containing some spikes, our predictions lag behind the actual values because our model cannot reactto fast, nonlinear changes.\n",
    "\n",
    "On the other hand, for the parts of the predictions containing smooth changes, our model reacts pretty well and manages to follow the upward and downward trends."
   ]
  },
  {
   "cell_type": "code",
   "execution_count": null,
   "metadata": {},
   "outputs": [],
   "source": []
  }
 ],
 "metadata": {
  "colab": {
   "collapsed_sections": [],
   "name": "recurrent_neural_network.ipynb",
   "provenance": []
  },
  "kernelspec": {
   "display_name": "Python 3",
   "language": "python",
   "name": "python3"
  },
  "language_info": {
   "codemirror_mode": {
    "name": "ipython",
    "version": 3
   },
   "file_extension": ".py",
   "mimetype": "text/x-python",
   "name": "python",
   "nbconvert_exporter": "python",
   "pygments_lexer": "ipython3",
   "version": "3.7.6"
  }
 },
 "nbformat": 4,
 "nbformat_minor": 1
}
